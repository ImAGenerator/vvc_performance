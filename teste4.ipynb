{
 "cells": [
  {
   "cell_type": "code",
   "execution_count": null,
   "metadata": {},
   "outputs": [],
   "source": [
    "import vvcpy as vp\n",
    "\n",
    "new_version = 'RdCostModif'\n",
    "dst_file = '/home/VVCSoftware_VTM/source/Lib/CommmonLib/RdCost.cpp'\n",
    "src_file = '/home/RdCostModif.cpp'\n",
    "\n",
    "sim = vp.sim.Simulation()\n",
    "sim.read_yaml('setup.yaml')\n",
    "sim.change_version(\n",
    "    new_version=new_version,\n",
    "    old_file=dst_file,\n",
    "    new_file=src_file\n",
    ")"
   ]
  }
 ],
 "metadata": {
  "kernelspec": {
   "display_name": "Python 3",
   "language": "python",
   "name": "python3"
  },
  "language_info": {
   "codemirror_mode": {
    "name": "ipython",
    "version": 3
   },
   "file_extension": ".py",
   "mimetype": "text/x-python",
   "name": "python",
   "nbconvert_exporter": "python",
   "pygments_lexer": "ipython3",
   "version": "3.10.12"
  },
  "orig_nbformat": 4
 },
 "nbformat": 4,
 "nbformat_minor": 2
}
