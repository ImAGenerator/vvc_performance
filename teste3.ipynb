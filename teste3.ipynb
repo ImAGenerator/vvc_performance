{
 "cells": [
  {
   "cell_type": "code",
   "execution_count": 6,
   "metadata": {},
   "outputs": [
    {
     "name": "stdout",
     "output_type": "stream",
     "text": [
      "---------------------------------------------- \n",
      "out directory     /mnt/c/Users/dudup/OneDrive/Documentos/GitHub/vvc_performance/output_1407 \n",
      "vtm directory     /mnt/e/VVC/VVCSoftware_VTM \n",
      "cfg directory     /mnt/c/Users/dudup/OneDrive/Área de Trabalho/New folder/VVC/VVC_research/database/cfg-files \n",
      "---------------------------------------------- \n",
      "\n",
      "version :         Precise \n",
      "qps :             [22] \n",
      "encoder :         ['AI'] \n",
      "n_frames :        32 \n",
      "background exec : False \n",
      "videos :          [ \n",
      "                       0. BasketballDrive.cfg\n",
      "                       1. BasketballPass.cfg\n",
      "                       2. BQMall.cfg\n",
      "                       3. Campfire.cfg\n",
      "                       4. FoodMarket4.cfg\n",
      "                       5. FourPeople.cfg\n",
      "                       6. Johnny.cfg\n",
      "                       7. RaceHorses.cfg\n",
      "                       8. RitualDance.cfg\n",
      "                  ] \n",
      "---------------------------------------------- \n",
      "Total execution 9 x 1 x 1 = 9 simulations\n",
      "---------------------------------------------- \n",
      "\n"
     ]
    },
    {
     "data": {
      "text/plain": [
       "\"---------------------------------------------- \\nout directory     /mnt/c/Users/dudup/OneDrive/Documentos/GitHub/vvc_performance/output_1407 \\nvtm directory     /mnt/e/VVC/VVCSoftware_VTM \\ncfg directory     /mnt/c/Users/dudup/OneDrive/Área de Trabalho/New folder/VVC/VVC_research/database/cfg-files \\n---------------------------------------------- \\n\\nversion :         Precise \\nqps :             [22] \\nencoder :         ['AI'] \\nn_frames :        32 \\nbackground exec : False \\nvideos :          [ \\n                       0. BasketballDrive.cfg\\n                       1. BasketballPass.cfg\\n                       2. BQMall.cfg\\n                       3. Campfire.cfg\\n                       4. FoodMarket4.cfg\\n                       5. FourPeople.cfg\\n                       6. Johnny.cfg\\n                       7. RaceHorses.cfg\\n                       8. RitualDance.cfg\\n                  ] \\n---------------------------------------------- \\nTotal execution 9 x 1 x 1 = 9 simulations\\n---------------------------------------------- \\n\""
      ]
     },
     "execution_count": 6,
     "metadata": {},
     "output_type": "execute_result"
    }
   ],
   "source": [
    "import vvcpy as vp\n",
    "\n",
    "sim = vp.sim.Simulation(qps=[22],encoder=['AI'])\n",
    "sim.read_yaml('setup.yaml')\n",
    "sim.get_exec_info()\n",
    "\n",
    "#sim.run_exec()"
   ]
  }
 ],
 "metadata": {
  "kernelspec": {
   "display_name": "Python 3",
   "language": "python",
   "name": "python3"
  },
  "language_info": {
   "codemirror_mode": {
    "name": "ipython",
    "version": 3
   },
   "file_extension": ".py",
   "mimetype": "text/x-python",
   "name": "python",
   "nbconvert_exporter": "python",
   "pygments_lexer": "ipython3",
   "version": "3.10.12"
  },
  "orig_nbformat": 4
 },
 "nbformat": 4,
 "nbformat_minor": 2
}
